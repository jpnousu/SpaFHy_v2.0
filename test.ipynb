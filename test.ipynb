{
 "cells": [
  {
   "cell_type": "code",
   "execution_count": 1,
   "metadata": {},
   "outputs": [],
   "source": [
    "import numpy as np\n",
    "eps = np.finfo(float).eps"
   ]
  },
  {
   "cell_type": "code",
   "execution_count": 43,
   "metadata": {},
   "outputs": [
    {
     "name": "stdout",
     "output_type": "stream",
     "text": [
      "[[ 0.   0.  -0.5  0.   0. ]\n",
      " [ 0.   0.  -0.5  0.   0. ]\n",
      " [-0.7 -0.7 -0.7 -0.7 -0.7]\n",
      " [ 0.   0.  -0.5  0.   0. ]\n",
      " [ 0.   0.  -0.5  0.   0. ]]\n",
      "[[10.32754453 11.4135972  11.4719317  10.61477445 11.99916532]\n",
      " [11.67719753 10.6409024  10.63790619 12.91839413 10.0084918 ]\n",
      " [10.72170052 12.78701202 11.16383711 11.25178101 11.01600384]\n",
      " [11.89807664 11.43828081 11.05229015 11.05668966 12.5788164 ]\n",
      " [10.3930705  10.06792842 12.09742316 12.1863083  12.1457976 ]]\n",
      "\n",
      "[[14.50635758 15.72862515 14.22710383 15.57192242 14.95333061]\n",
      " [14.99484794 14.31229175 14.77263966 13.03590223 14.68497657]\n",
      " [15.86326737 15.27492815 14.16860711 15.55395219 13.34099601]\n",
      " [13.8572232  15.33174643 14.17144929 14.95060421 15.17454268]\n",
      " [15.5972728  15.16233471 15.61307866 15.7686704  14.23255054]]\n"
     ]
    }
   ],
   "source": [
    "rows = 5\n",
    "cols = 5\n",
    "n = rows*cols\n",
    "ditch_h = np.zeros((rows, cols))\n",
    "ditch_h[:,2] = -0.5\n",
    "ditch_h[2,:] = -0.7\n",
    "print(ditch_h)\n",
    "\n",
    "H = np.random.uniform(10, 13, (rows, cols))\n",
    "ele = np.random.uniform(13, 16, (rows, cols))\n",
    "\n",
    "print(H)\n",
    "print('')\n",
    "print(ele)"
   ]
  },
  {
   "cell_type": "code",
   "execution_count": 44,
   "metadata": {},
   "outputs": [],
   "source": [
    "ditch_h = np.ravel(ditch_h)\n",
    "H = np.ravel(H)\n",
    "ele = np.ravel(ele)"
   ]
  },
  {
   "cell_type": "code",
   "execution_count": 45,
   "metadata": {},
   "outputs": [],
   "source": [
    "H_neighbours = ditch_h.copy()\n",
    "for k in np.where(ditch_h < -eps)[0]:\n",
    "    H_ave = 0\n",
    "    n_neigh = 0\n",
    "    if k%cols != 0 and ditch_h[k-1] > -eps: # west non-ditch neighbor\n",
    "            H_ave += H[k-1]\n",
    "            n_neigh += 1\n",
    "    if (k+1)%cols != 0 and ditch_h[k+1] > -eps: # east non-ditch neighbor\n",
    "            H_ave += H[k+1]\n",
    "            n_neigh += 1\n",
    "    if k-cols >= 0 and  ditch_h[k-cols] > -eps: # north non-ditch neighbor\n",
    "            H_ave += H[k-cols]\n",
    "            n_neigh += 1\n",
    "    if k+cols < n and ditch_h[k+cols] > -eps: # south non-ditch neighbor\n",
    "            H_ave += H[k+cols]\n",
    "            n_neigh += 1\n",
    "    if n_neigh > 0:\n",
    "        H_neighbours[k] = H_ave / n_neigh  # average of neighboring non-ditch nodes\n",
    "    else:  # corners or nodes surrounded by ditches dont have neighbors, given its ditch depth\n",
    "        H_neighbours[k] = ele[k] + ditch_h[k] + eps"
   ]
  },
  {
   "cell_type": "code",
   "execution_count": 46,
   "metadata": {},
   "outputs": [
    {
     "name": "stdout",
     "output_type": "stream",
     "text": [
      "[[ 0.          0.         11.01418582  0.          0.        ]\n",
      " [ 0.          0.         11.77964826  0.          0.        ]\n",
      " [11.78763708 11.0395916  13.46860711 11.98754189 11.2936541 ]\n",
      " [ 0.          0.         11.24748523  0.          0.        ]\n",
      " [ 0.          0.         11.12711836  0.          0.        ]]\n"
     ]
    }
   ],
   "source": [
    "H = np.reshape(H, (rows, cols))\n",
    "H_neighbours = np.reshape(H_neighbours, (rows, cols))\n",
    "print(H_neighbours)"
   ]
  },
  {
   "cell_type": "code",
   "execution_count": 50,
   "metadata": {},
   "outputs": [
    {
     "name": "stdout",
     "output_type": "stream",
     "text": [
      "[[12.49734315 11.55418889 11.42248859 12.24223044 11.74507153]\n",
      " [11.92804839 10.43148664 11.18436487 11.09015742 10.33270065]\n",
      " [11.61340788 10.73840725 11.7621676  11.76574752 12.15024899]\n",
      " [10.13573128 11.73197784 12.14564975 12.23236203 12.30202147]\n",
      " [10.08716767 12.56317282 11.18905776 10.0659173  11.18255857]]\n"
     ]
    }
   ],
   "source": [
    "print(H)"
   ]
  },
  {
   "cell_type": "code",
   "execution_count": 62,
   "metadata": {},
   "outputs": [
    {
     "data": {
      "text/plain": [
       "11.317361060433047"
      ]
     },
     "execution_count": 62,
     "metadata": {},
     "output_type": "execute_result"
    }
   ],
   "source": [
    "(H[1,4] + H[3,4]) / 2"
   ]
  },
  {
   "cell_type": "code",
   "execution_count": 14,
   "metadata": {},
   "outputs": [
    {
     "name": "stderr",
     "output_type": "stream",
     "text": [
      "/var/folders/01/f14lxpfj5wl28zjtf5rz8t9c0000gn/T/ipykernel_40287/4018311415.py:32: RuntimeWarning: invalid value encountered in divide\n",
      "  H_neighbours[avg_mask] = (H_ave / n_neigh)[avg_mask]\n"
     ]
    }
   ],
   "source": [
    "# Identify ditches (where ditch_h < -eps)\n",
    "ditch_mask = ditch_h < -eps\n",
    "\n",
    "# Create an array to store averaged values\n",
    "H_neighbours = ditch_h.copy()\n",
    "\n",
    "# Shifted versions of H to access neighboring values\n",
    "H_west  = np.roll(H, shift=1, axis=1)  # Left shift\n",
    "H_east  = np.roll(H, shift=-1, axis=1) # Right shift\n",
    "H_north = np.roll(H, shift=1, axis=0)  # Up shift\n",
    "H_south = np.roll(H, shift=-1, axis=0) # Down shift\n",
    "\n",
    "# Mask for valid non-ditch neighbors (to prevent wrapping)\n",
    "valid_west  = np.roll(ditch_mask, shift=1, axis=1) == False\n",
    "valid_east  = np.roll(ditch_mask, shift=-1, axis=1) == False\n",
    "valid_north = np.roll(ditch_mask, shift=1, axis=0) == False\n",
    "valid_south = np.roll(ditch_mask, shift=-1, axis=0) == False\n",
    "\n",
    "# Sum up valid neighbor values\n",
    "H_ave = (\n",
    "    H_west * valid_west +\n",
    "    H_east * valid_east +\n",
    "    H_north * valid_north +\n",
    "    H_south * valid_south\n",
    ")\n",
    "\n",
    "# Count valid neighbors\n",
    "n_neigh = valid_west.astype(int) + valid_east.astype(int) + valid_north.astype(int) + valid_south.astype(int)\n",
    "\n",
    "# Compute the average only where there are valid neighbors\n",
    "avg_mask = (ditch_mask & (n_neigh > 0))\n",
    "H_neighbours[avg_mask] = (H_ave / n_neigh)[avg_mask]\n",
    "\n",
    "# Assign ditch depth where there are no valid neighbors\n",
    "H_neighbours[ditch_mask & (n_neigh == 0)] = ele[ditch_mask & (n_neigh == 0)] + ditch_h[ditch_mask & (n_neigh == 0)] + eps\n"
   ]
  },
  {
   "cell_type": "code",
   "execution_count": 15,
   "metadata": {},
   "outputs": [
    {
     "data": {
      "text/plain": [
       "array([[ 0.        ,  0.        , 11.11027366, ...,  0.        ,\n",
       "         0.        ,  0.        ],\n",
       "       [ 0.        ,  0.        , 12.12287699, ...,  0.        ,\n",
       "         0.        ,  0.        ],\n",
       "       [11.37664706, 11.75838548, 12.69679265, ..., 10.99436821,\n",
       "        10.59409334, 11.84028402],\n",
       "       ...,\n",
       "       [ 0.        ,  0.        , 11.49692606, ...,  0.        ,\n",
       "         0.        ,  0.        ],\n",
       "       [ 0.        ,  0.        , 11.10939738, ...,  0.        ,\n",
       "         0.        ,  0.        ],\n",
       "       [ 0.        ,  0.        , 12.45997164, ...,  0.        ,\n",
       "         0.        ,  0.        ]])"
      ]
     },
     "execution_count": 15,
     "metadata": {},
     "output_type": "execute_result"
    }
   ],
   "source": [
    "H_neighbours"
   ]
  },
  {
   "cell_type": "code",
   "execution_count": 47,
   "metadata": {},
   "outputs": [],
   "source": [
    "TrW1 = np.ravel(np.random.uniform(10, 13, (rows, cols)))\n",
    "TrE1 = np.ravel(np.random.uniform(10, 13, (rows, cols)))\n",
    "TrN1 = np.ravel(np.random.uniform(10, 13, (rows, cols)))\n",
    "TrS1 = np.ravel(np.random.uniform(10, 13, (rows, cols)))\n",
    "alfa = 1.334\n",
    "implic = 0.5"
   ]
  },
  {
   "cell_type": "code",
   "execution_count": 48,
   "metadata": {},
   "outputs": [],
   "source": [
    "# Setup of diagonal sparse matrix\n",
    "a_d = implic * (TrW1 + TrE1 + TrN1 + TrS1) + alfa  # Diagonal\n",
    "a_w = -implic * TrW1[1:]  # West element\n",
    "a_e = -implic * TrE1[:-1]  # East element\n",
    "a_n = -implic * TrN1[cols:]  # North element\n",
    "a_s = -implic * TrS1[:n-cols]  # South element"
   ]
  },
  {
   "cell_type": "code",
   "execution_count": 49,
   "metadata": {},
   "outputs": [
    {
     "data": {
      "text/plain": [
       "5"
      ]
     },
     "execution_count": 49,
     "metadata": {},
     "output_type": "execute_result"
    }
   ],
   "source": [
    "cols"
   ]
  },
  {
   "cell_type": "code",
   "execution_count": null,
   "metadata": {},
   "outputs": [],
   "source": []
  }
 ],
 "metadata": {
  "kernelspec": {
   "display_name": "spa2",
   "language": "python",
   "name": "python3"
  },
  "language_info": {
   "codemirror_mode": {
    "name": "ipython",
    "version": 3
   },
   "file_extension": ".py",
   "mimetype": "text/x-python",
   "name": "python",
   "nbconvert_exporter": "python",
   "pygments_lexer": "ipython3",
   "version": "3.11.5"
  }
 },
 "nbformat": 4,
 "nbformat_minor": 2
}
