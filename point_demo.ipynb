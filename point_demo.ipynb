{
 "cells": [
  {
   "cell_type": "code",
   "execution_count": 2,
   "metadata": {},
   "outputs": [],
   "source": [
    "from canopygrid import CanopyGrid\n",
    "from parameters_krycklan import parameters"
   ]
  },
  {
   "cell_type": "code",
   "execution_count": 4,
   "metadata": {},
   "outputs": [],
   "source": [
    "params = parameters()"
   ]
  },
  {
   "cell_type": "code",
   "execution_count": 17,
   "metadata": {},
   "outputs": [],
   "source": [
    "pcpy = params[1]\n",
    "state = params[1]['state']"
   ]
  },
  {
   "cell_type": "code",
   "execution_count": 25,
   "metadata": {},
   "outputs": [
    {
     "data": {
      "text/plain": [
       "67.995"
      ]
     },
     "execution_count": 25,
     "metadata": {},
     "output_type": "execute_result"
    }
   ],
   "source": [
    "pcpy['loc']['lat']"
   ]
  },
  {
   "cell_type": "code",
   "execution_count": 20,
   "metadata": {},
   "outputs": [],
   "source": [
    "state['LAI_conif'] = 2.0\n",
    "state['LAI_decid'] = 0.5\n",
    "state['canopy_height'] = 15.\n",
    "state['canopy_fraction'] = 0.5"
   ]
  },
  {
   "cell_type": "code",
   "execution_count": 21,
   "metadata": {},
   "outputs": [
    {
     "ename": "TypeError",
     "evalue": "'numpy.float64' object does not support item assignment",
     "output_type": "error",
     "traceback": [
      "\u001b[0;31m---------------------------------------------------------------------------\u001b[0m",
      "\u001b[0;31mTypeError\u001b[0m                                 Traceback (most recent call last)",
      "\u001b[1;32mUntitled-1.ipynb Cell 5\u001b[0m line \u001b[0;36m1\n\u001b[0;32m----> <a href='vscode-notebook-cell:Untitled-1.ipynb?jupyter-notebook#W3sdW50aXRsZWQ%3D?line=0'>1</a>\u001b[0m CanopyGrid(cpara\u001b[39m=\u001b[39mpcpy, state\u001b[39m=\u001b[39mstate)\n",
      "File \u001b[0;32m~/SpaFHy_v2.0/canopygrid.py:78\u001b[0m, in \u001b[0;36mCanopyGrid.__init__\u001b[0;34m(self, cpara, state, dist_rad_file)\u001b[0m\n\u001b[1;32m     76\u001b[0m     dl \u001b[39m=\u001b[39m daylength(lat, doy)\n\u001b[1;32m     77\u001b[0m     ix \u001b[39m=\u001b[39m np\u001b[39m.\u001b[39mmax(np\u001b[39m.\u001b[39mwhere(dl \u001b[39m>\u001b[39m \u001b[39mself\u001b[39m\u001b[39m.\u001b[39mphenopara[\u001b[39m'\u001b[39m\u001b[39msdl\u001b[39m\u001b[39m'\u001b[39m]))\n\u001b[0;32m---> 78\u001b[0m     \u001b[39mself\u001b[39m\u001b[39m.\u001b[39mphenopara[\u001b[39m'\u001b[39m\u001b[39msso\u001b[39m\u001b[39m'\u001b[39m][\u001b[39mself\u001b[39m\u001b[39m.\u001b[39mlatitude \u001b[39m==\u001b[39m lat] \u001b[39m=\u001b[39m doy[ix]  \u001b[39m# this is onset date for senescence\u001b[39;00m\n\u001b[1;32m     79\u001b[0m     \u001b[39mdel\u001b[39;00m ix\n\u001b[1;32m     81\u001b[0m \u001b[39mself\u001b[39m\u001b[39m.\u001b[39mphenopara[\u001b[39m'\u001b[39m\u001b[39msso\u001b[39m\u001b[39m'\u001b[39m] \u001b[39m=\u001b[39m \u001b[39mself\u001b[39m\u001b[39m.\u001b[39mphenopara[\u001b[39m'\u001b[39m\u001b[39msso\u001b[39m\u001b[39m'\u001b[39m] \u001b[39m*\u001b[39m \u001b[39mself\u001b[39m\u001b[39m.\u001b[39mcmask\n",
      "\u001b[0;31mTypeError\u001b[0m: 'numpy.float64' object does not support item assignment"
     ]
    }
   ],
   "source": [
    "CanopyGrid(cpara=pcpy, state=state)"
   ]
  },
  {
   "cell_type": "code",
   "execution_count": null,
   "metadata": {},
   "outputs": [],
   "source": []
  }
 ],
 "metadata": {
  "kernelspec": {
   "display_name": "spa2",
   "language": "python",
   "name": "python3"
  },
  "language_info": {
   "codemirror_mode": {
    "name": "ipython",
    "version": 3
   },
   "file_extension": ".py",
   "mimetype": "text/x-python",
   "name": "python",
   "nbconvert_exporter": "python",
   "pygments_lexer": "ipython3",
   "version": "3.11.5"
  }
 },
 "nbformat": 4,
 "nbformat_minor": 2
}
