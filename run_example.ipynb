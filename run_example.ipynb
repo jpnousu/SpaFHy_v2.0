{
 "cells": [
  {
   "cell_type": "markdown",
   "id": "4d4464d8-f04d-4c16-a374-3ac65fea53c2",
   "metadata": {},
   "source": [
    "#### Example running SpaFHy with jupyter notebook"
   ]
  },
  {
   "cell_type": "code",
   "execution_count": 1,
   "id": "80468cf4-2065-4095-8d2e-db3d027e6a7c",
   "metadata": {
    "scrolled": true
   },
   "outputs": [
    {
     "name": "stdout",
     "output_type": "stream",
     "text": [
      "spatial_pcpy {'lai_conif': True, 'lai_decid': True, 'lai_grass': False, 'lai_shrub': False, 'hc': True, 'cf': True}\n",
      "spatial_pbu {'org': True, 'root': True}\n",
      "spatial_pspd {'deep_id': False}\n",
      "/Users/jpnousu/SpaFHy_v2.0/testcase_input/hyytiala_32/site_main_class.asc\n",
      "/Users/jpnousu/SpaFHy_v2.0/testcase_input/hyytiala_32/site_type_combined.asc\n",
      "/Users/jpnousu/SpaFHy_v2.0/testcase_input/hyytiala_32/canopy_height.asc\n",
      "/Users/jpnousu/SpaFHy_v2.0/testcase_input/hyytiala_32/canopy_fraction.asc\n",
      "/Users/jpnousu/SpaFHy_v2.0/testcase_input/hyytiala_32/LAI_conif.asc\n",
      "/Users/jpnousu/SpaFHy_v2.0/testcase_input/hyytiala_32/LAI_decid.asc\n"
     ]
    },
    {
     "ename": "KeyError",
     "evalue": "'cmask_bi'",
     "output_type": "error",
     "traceback": [
      "\u001b[0;31m---------------------------------------------------------------------------\u001b[0m",
      "\u001b[0;31mKeyError\u001b[0m                                  Traceback (most recent call last)",
      "\u001b[1;32m/Users/jpnousu/SpaFHy_v2.0/run_example.ipynb Cell 2\u001b[0m line \u001b[0;36m1\n\u001b[1;32m      <a href='vscode-notebook-cell:/Users/jpnousu/SpaFHy_v2.0/run_example.ipynb#W1sZmlsZQ%3D%3D?line=8'>9</a>\u001b[0m os\u001b[39m.\u001b[39mchdir(\u001b[39mr\u001b[39m\u001b[39m'\u001b[39m\u001b[39m/Users/jpnousu/SpaFHy_v2.0\u001b[39m\u001b[39m'\u001b[39m)\n\u001b[1;32m     <a href='vscode-notebook-cell:/Users/jpnousu/SpaFHy_v2.0/run_example.ipynb#W1sZmlsZQ%3D%3D?line=10'>11</a>\u001b[0m \u001b[39m# example of calling driver, reading results\u001b[39;00m\n\u001b[0;32m---> <a href='vscode-notebook-cell:/Users/jpnousu/SpaFHy_v2.0/run_example.ipynb#W1sZmlsZQ%3D%3D?line=11'>12</a>\u001b[0m outputfile \u001b[39m=\u001b[39m driver(create_ncf\u001b[39m=\u001b[39m\u001b[39mTrue\u001b[39;00m, create_spinup\u001b[39m=\u001b[39m\u001b[39mFalse\u001b[39;00m, folder\u001b[39m=\u001b[39m\u001b[39m'\u001b[39m\u001b[39mtestcase_input\u001b[39m\u001b[39m'\u001b[39m)\n\u001b[1;32m     <a href='vscode-notebook-cell:/Users/jpnousu/SpaFHy_v2.0/run_example.ipynb#W1sZmlsZQ%3D%3D?line=12'>13</a>\u001b[0m results \u001b[39m=\u001b[39m xr\u001b[39m.\u001b[39mopen_dataset(outputfile)\n",
      "File \u001b[0;32m~/SpaFHy_v2.0/model_driver.py:28\u001b[0m, in \u001b[0;36mdriver\u001b[0;34m(create_ncf, create_spinup, output, folder)\u001b[0m\n\u001b[1;32m     25\u001b[0m running_time \u001b[39m=\u001b[39m time\u001b[39m.\u001b[39mtime()\n\u001b[1;32m     27\u001b[0m \u001b[39m# load and process parameters\u001b[39;00m\n\u001b[0;32m---> 28\u001b[0m pgen, pcpy, pbu, pds, cmask, ptopmodel, gisinfo \u001b[39m=\u001b[39m preprocess_parameters(folder)\n\u001b[1;32m     30\u001b[0m \u001b[39m# initialize SpaFHy\u001b[39;00m\n\u001b[1;32m     31\u001b[0m spa \u001b[39m=\u001b[39m SpaFHy(pgen, pcpy, pbu, pds, ptopmodel)\n",
      "File \u001b[0;32m~/SpaFHy_v2.0/model_driver.py:227\u001b[0m, in \u001b[0;36mpreprocess_parameters\u001b[0;34m(folder)\u001b[0m\n\u001b[1;32m    222\u001b[0m \u001b[39mif\u001b[39;00m (pgen[\u001b[39m'\u001b[39m\u001b[39mspatial_cpy\u001b[39m\u001b[39m'\u001b[39m] \u001b[39m==\u001b[39m \u001b[39mFalse\u001b[39;00m \u001b[39mand\u001b[39;00m\n\u001b[1;32m    223\u001b[0m     pgen[\u001b[39m'\u001b[39m\u001b[39mspatial_soil\u001b[39m\u001b[39m'\u001b[39m] \u001b[39m==\u001b[39m \u001b[39mFalse\u001b[39;00m \u001b[39mand\u001b[39;00m\n\u001b[1;32m    224\u001b[0m     pgen[\u001b[39m'\u001b[39m\u001b[39mspatial_forcing\u001b[39m\u001b[39m'\u001b[39m] \u001b[39m==\u001b[39m \u001b[39mFalse\u001b[39;00m):\n\u001b[1;32m    225\u001b[0m     gisdata \u001b[39m=\u001b[39m {\u001b[39m'\u001b[39m\u001b[39mcmask\u001b[39m\u001b[39m'\u001b[39m: np\u001b[39m.\u001b[39mones((\u001b[39m1\u001b[39m,\u001b[39m1\u001b[39m))}\n\u001b[0;32m--> 227\u001b[0m budata \u001b[39m=\u001b[39m preprocess_budata(pbu, orgp, rootp, gisdata, pgen[\u001b[39m'\u001b[39m\u001b[39mspatial_soil\u001b[39m\u001b[39m'\u001b[39m])\n\u001b[1;32m    229\u001b[0m cpydata \u001b[39m=\u001b[39m preprocess_cpydata(pcpy, gisdata, pgen[\u001b[39m'\u001b[39m\u001b[39mspatial_cpy\u001b[39m\u001b[39m'\u001b[39m])\n\u001b[1;32m    231\u001b[0m \u001b[39mif\u001b[39;00m pgen[\u001b[39m'\u001b[39m\u001b[39msimtype\u001b[39m\u001b[39m'\u001b[39m] \u001b[39m==\u001b[39m \u001b[39m'\u001b[39m\u001b[39mTOP\u001b[39m\u001b[39m'\u001b[39m:\n",
      "File \u001b[0;32m~/SpaFHy_v2.0/iotools.py:364\u001b[0m, in \u001b[0;36mpreprocess_budata\u001b[0;34m(pbu, orgp, rootp, gisdata, spatial)\u001b[0m\n\u001b[1;32m    361\u001b[0m \u001b[39m# create dict for initializing soil profile.\u001b[39;00m\n\u001b[1;32m    362\u001b[0m \u001b[39m# copy pbu into sdata and make each value np.array(np.shape(cmask))\u001b[39;00m\n\u001b[1;32m    363\u001b[0m data \u001b[39m=\u001b[39m pbu\u001b[39m.\u001b[39mcopy()\n\u001b[0;32m--> 364\u001b[0m gridshape \u001b[39m=\u001b[39m np\u001b[39m.\u001b[39mones(shape\u001b[39m=\u001b[39mgisdata[\u001b[39m'\u001b[39m\u001b[39mcmask_bi\u001b[39m\u001b[39m'\u001b[39m]\u001b[39m.\u001b[39mshape)\n\u001b[1;32m    365\u001b[0m data\u001b[39m.\u001b[39mupdate((x, y \u001b[39m*\u001b[39m gridshape) \u001b[39mfor\u001b[39;00m x, y \u001b[39min\u001b[39;00m data\u001b[39m.\u001b[39mitems())\n\u001b[1;32m    367\u001b[0m data\u001b[39m.\u001b[39mupdate({\u001b[39m'\u001b[39m\u001b[39morg_id\u001b[39m\u001b[39m'\u001b[39m: np\u001b[39m.\u001b[39mempty(np\u001b[39m.\u001b[39mshape(gisdata[\u001b[39m'\u001b[39m\u001b[39mcmask\u001b[39m\u001b[39m'\u001b[39m]),dtype\u001b[39m=\u001b[39m\u001b[39mobject\u001b[39m)})\n",
      "\u001b[0;31mKeyError\u001b[0m: 'cmask_bi'"
     ]
    }
   ],
   "source": [
    "from model_driver import driver\n",
    "from iotools import read_results\n",
    "import matplotlib.pyplot as plt\n",
    "import numpy as np\n",
    "import xarray as xr\n",
    "import os\n",
    "\n",
    "#os.chdir(r'/projappl/project_2000908/nousu/SpaFHy_v2.0')\n",
    "os.chdir(r'/Users/jpnousu/SpaFHy_v2.0')\n",
    "\n",
    "# example of calling driver, reading results\n",
    "outputfile = driver(create_ncf=True, create_spinup=False, folder='testcase_input')\n",
    "results = xr.open_dataset(outputfile)"
   ]
  },
  {
   "cell_type": "code",
   "execution_count": null,
   "id": "f81f1adf-e976-424d-86e6-b8199643bc12",
   "metadata": {},
   "outputs": [],
   "source": [
    "date = '1981-08-01'\n",
    "plt.figure(figsize=(16,6))\n",
    "ax=plt.subplot(1,2,1)\n",
    "#results['bucket_psi_root'].sel(time=date).plot(cmap='coolwarm_r')\n",
    "results['bucket_psi_root'].mean(dim=['time']).plot(vmin=-3, cmap='coolwarm_r')\n",
    "plt.subplot(1,2,2, sharex=ax, sharey=ax)\n",
    "#results['bucket_moisture_root'].sel(time=date)[20:-60,70:-100].plot(cmap='coolwarm_r')\n",
    "results['bucket_moisture_root'].mean(dim=['time']).plot(cmap='coolwarm_r')\n",
    "#results['bucket_moisture_root'].sel(time=date).plot(cmap='coolwarm_r')\n",
    "#plt.subplot(1,2,3, sharex=ax, sharey=ax)\n",
    "#plt.subplot(2,2,4, sharex=ax, sharey=ax)\n",
    "#results['bucket_moisture_top'].sel(time=date)[20:-60,70:-100].plot(cmap='coolwarm_r')"
   ]
  },
  {
   "cell_type": "code",
   "execution_count": null,
   "id": "f4361d7a-f793-4da6-9552-44507d685dff",
   "metadata": {},
   "outputs": [],
   "source": [
    "import xarray as xr\n",
    "file = r'/scratch/project_2000908/nousu/SpaFHy_RESULTS/testcase_input_202403121454.nc'\n",
    "results = xr.open_dataset(file)"
   ]
  },
  {
   "cell_type": "code",
   "execution_count": null,
   "id": "da9e80b0-1693-4e86-b943-c49608907243",
   "metadata": {},
   "outputs": [],
   "source": [
    "firedata = results[['forcing_wind_speed', 'forcing_air_temperature', 'forcing_relative_humidity', \n",
    "                    'bucket_psi_root']].copy()\n",
    "results.close()"
   ]
  },
  {
   "cell_type": "code",
   "execution_count": null,
   "id": "4f9d5394-3838-43c3-8f10-8c4278b844b7",
   "metadata": {},
   "outputs": [],
   "source": [
    "# subset by month\n",
    "firedatass = firedata.sel(time=firedata.time.dt.month.isin([5, 6, 7, 8, 9])).copy()\n",
    "# subset by snow\n",
    "#firedatass = firedata.sel(time=(results['canopy_snow_water_equivalent'].max(dim=['lat','lon']) == 0)).copy()"
   ]
  },
  {
   "cell_type": "code",
   "execution_count": null,
   "id": "ce008d25-9b0e-48c9-b6d6-4243a764984f",
   "metadata": {},
   "outputs": [],
   "source": [
    "firedatass['forcing_wind_speed'][:].plot()"
   ]
  },
  {
   "cell_type": "code",
   "execution_count": null,
   "id": "2ad6c9c9-1b03-4bc7-b7f3-e98b970f1ba3",
   "metadata": {},
   "outputs": [],
   "source": [
    "fp = r'/scratch/project_2000908/nousu/SpaFHy_RESULTS/spafhy_for_fire_3_24.nc'\n",
    "firedatass.to_netcdf(fp, 'w')\n",
    "firedatass.close()"
   ]
  }
 ],
 "metadata": {
  "kernelspec": {
   "display_name": "Python 3 (ipykernel)",
   "language": "python",
   "name": "python3"
  },
  "language_info": {
   "codemirror_mode": {
    "name": "ipython",
    "version": 3
   },
   "file_extension": ".py",
   "mimetype": "text/x-python",
   "name": "python",
   "nbconvert_exporter": "python",
   "pygments_lexer": "ipython3",
   "version": "3.11.5"
  }
 },
 "nbformat": 4,
 "nbformat_minor": 5
}
