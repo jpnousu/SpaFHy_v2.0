{
 "cells": [
  {
   "cell_type": "markdown",
   "id": "4d4464d8-f04d-4c16-a374-3ac65fea53c2",
   "metadata": {},
   "source": [
    "#### Example running SpaFHy with jupyter notebook"
   ]
  },
  {
   "cell_type": "code",
   "execution_count": 1,
   "id": "80468cf4-2065-4095-8d2e-db3d027e6a7c",
   "metadata": {
    "scrolled": true
   },
   "outputs": [
    {
     "name": "stdout",
     "output_type": "stream",
     "text": [
      "{'cmask': 'catchment_mask_all.asc', 'streams': 'stream_mask.asc', 'lakes': 'lake_mask.asc'}\n",
      "spatial_pcpy {'LAI_conif': True, 'LAI_decid': True, 'LAI_shrub': False, 'LAI_grass': False, 'canopy_height': True, 'canopy_fraction': True, 'w': False, 'swe': False}\n",
      "spatial_pbu {'org_id': True, 'org_depth': False, 'org_poros': False, 'org_fc': False, 'org_rw': False, 'org_ksat': False, 'org_beta': False, 'maxpond': False, 'root_id': True, 'root_depth': False, 'root_sat': False, 'root_fc': False, 'root_poros': False, 'root_wp': False, 'root_ksat': False, 'root_beta': False, 'root_alpha': False, 'root_n': False, 'root_wr': False, 'org_sat': False, 'pond_storage': False}\n",
      "spatial_pspd {'deep_id': True, 'elevation': True, 'ditch_nodes': True, 'lake_nodes': True, 'deep_z': False, 'deep_poros': False, 'deep_wr': False, 'deep_alpha': False, 'deep_n': False, 'deep_ksat': False, 'ground_water_level': False, 'ditch_depth': False}\n",
      "spatial_ptop {'dem': True, 'flow_accumulation': True, 'slope': True, 'twi': True, 'dt': False, 'm': False, 'ko': False, 'twi_cutoff': False, 'so': False}\n",
      "spatial_aux {'cmask': True, 'streams': True, 'lakes': True}\n",
      "/Users/jpnousu/SpaFHy_v2.0/testcase_input/hyytiala_32/catchment_mask_all.asc\n",
      "/Users/jpnousu/SpaFHy_v2.0/testcase_input/hyytiala_32/stream_mask.asc\n",
      "/Users/jpnousu/SpaFHy_v2.0/testcase_input/hyytiala_32/lake_mask.asc\n",
      "{'cmask': array([[nan, nan, nan, ..., nan, nan, nan],\n",
      "       [nan, nan, nan, ..., nan, nan, nan],\n",
      "       [nan, nan, nan, ..., nan, nan, nan],\n",
      "       ...,\n",
      "       [nan, nan, nan, ..., nan, nan, nan],\n",
      "       [nan, nan, nan, ..., nan, nan, nan],\n",
      "       [nan, nan, nan, ..., nan, nan, nan]]), 'cmask_bi': array([[nan, nan, nan, ..., nan, nan, nan],\n",
      "       [nan, nan, nan, ..., nan, nan, nan],\n",
      "       [nan, nan, nan, ..., nan, nan, nan],\n",
      "       ...,\n",
      "       [nan, nan, nan, ..., nan, nan, nan],\n",
      "       [nan, nan, nan, ..., nan, nan, nan],\n",
      "       [nan, nan, nan, ..., nan, nan, nan]]), 'streams': array([[0., 0., 0., ..., 0., 0., 0.],\n",
      "       [0., 0., 0., ..., 0., 0., 0.],\n",
      "       [0., 0., 0., ..., 0., 0., 0.],\n",
      "       ...,\n",
      "       [0., 0., 0., ..., 0., 0., 0.],\n",
      "       [0., 0., 0., ..., 0., 0., 0.],\n",
      "       [0., 0., 0., ..., 0., 0., 0.]]), 'lakes': array([[0., 0., 0., ..., 0., 0., 0.],\n",
      "       [0., 0., 0., ..., 0., 0., 0.],\n",
      "       [0., 0., 0., ..., 0., 0., 0.],\n",
      "       ...,\n",
      "       [0., 0., 0., ..., 0., 0., 0.],\n",
      "       [0., 0., 0., ..., 0., 0., 0.],\n",
      "       [0., 0., 0., ..., 0., 0., 0.]]), 'dxy': 32.0}\n",
      "/Users/jpnousu/SpaFHy_v2.0/testcase_input/hyytiala_32/site_main_class.asc\n",
      "/Users/jpnousu/SpaFHy_v2.0/testcase_input/hyytiala_32/site_type_combined.asc\n",
      "/Users/jpnousu/SpaFHy_v2.0/testcase_input/hyytiala_32/canopy_height.asc\n",
      "/Users/jpnousu/SpaFHy_v2.0/testcase_input/hyytiala_32/canopy_fraction.asc\n",
      "/Users/jpnousu/SpaFHy_v2.0/testcase_input/hyytiala_32/LAI_conif.asc\n",
      "/Users/jpnousu/SpaFHy_v2.0/testcase_input/hyytiala_32/LAI_decid.asc\n",
      "org_id\n",
      "org_depth\n",
      "org_poros\n",
      "org_fc\n",
      "org_rw\n",
      "org_ksat\n",
      "org_beta\n",
      "maxpond\n",
      "root_id\n",
      "root_depth\n",
      "root_sat\n",
      "root_fc\n",
      "root_poros\n",
      "root_wp\n",
      "root_ksat\n",
      "root_beta\n",
      "root_alpha\n",
      "root_n\n",
      "root_wr\n",
      "org_sat\n",
      "pond_storage\n",
      "*** Defined root soil IDs: {0, 1, 2, 3, 4, 5, 6, 7, 8, 9, 10, 11, 12, 13, 14, 15, 16} Used root soil IDs: {0.0, 1.0, 2.0, 3.0, 4.0, 5.0, 12.0, 13.0, 14.0, 15.0, 16.0} ***\n",
      "*** Defined organic soil IDs: {0, 1, 2, 3, 4} Used organic soil IDs: {0.0, 1.0, 2.0, 3.0, 4.0} ***\n",
      "*** State variables assigned from parameters.py ***\n"
     ]
    },
    {
     "ename": "KeyError",
     "evalue": "'cmask'",
     "output_type": "error",
     "traceback": [
      "\u001b[0;31m---------------------------------------------------------------------------\u001b[0m",
      "\u001b[0;31mKeyError\u001b[0m                                  Traceback (most recent call last)",
      "\u001b[1;32m/Users/jpnousu/SpaFHy_v2.0/run_example.ipynb Cell 2\u001b[0m line \u001b[0;36m1\n\u001b[1;32m      <a href='vscode-notebook-cell:/Users/jpnousu/SpaFHy_v2.0/run_example.ipynb#W1sZmlsZQ%3D%3D?line=8'>9</a>\u001b[0m os\u001b[39m.\u001b[39mchdir(\u001b[39mr\u001b[39m\u001b[39m'\u001b[39m\u001b[39m/Users/jpnousu/SpaFHy_v2.0\u001b[39m\u001b[39m'\u001b[39m)\n\u001b[1;32m     <a href='vscode-notebook-cell:/Users/jpnousu/SpaFHy_v2.0/run_example.ipynb#W1sZmlsZQ%3D%3D?line=10'>11</a>\u001b[0m \u001b[39m# example of calling driver, reading results\u001b[39;00m\n\u001b[0;32m---> <a href='vscode-notebook-cell:/Users/jpnousu/SpaFHy_v2.0/run_example.ipynb#W1sZmlsZQ%3D%3D?line=11'>12</a>\u001b[0m outputfile \u001b[39m=\u001b[39m driver(create_ncf\u001b[39m=\u001b[39m\u001b[39mTrue\u001b[39;00m, create_spinup\u001b[39m=\u001b[39m\u001b[39mFalse\u001b[39;00m, folder\u001b[39m=\u001b[39m\u001b[39m'\u001b[39m\u001b[39mtestcase_input\u001b[39m\u001b[39m'\u001b[39m)\n\u001b[1;32m     <a href='vscode-notebook-cell:/Users/jpnousu/SpaFHy_v2.0/run_example.ipynb#W1sZmlsZQ%3D%3D?line=12'>13</a>\u001b[0m results \u001b[39m=\u001b[39m xr\u001b[39m.\u001b[39mopen_dataset(outputfile)\n",
      "File \u001b[0;32m~/SpaFHy_v2.0/model_driver.py:31\u001b[0m, in \u001b[0;36mdriver\u001b[0;34m(create_ncf, create_spinup, output, folder)\u001b[0m\n\u001b[1;32m     28\u001b[0m pgen, pcpy, pbu, pds, cmask, ptop, gisinfo \u001b[39m=\u001b[39m preprocess_parameters(folder)\n\u001b[1;32m     30\u001b[0m \u001b[39m# initialize SpaFHy\u001b[39;00m\n\u001b[0;32m---> 31\u001b[0m spa \u001b[39m=\u001b[39m SpaFHy(pgen, pcpy, pbu, pds, ptop)\n\u001b[1;32m     33\u001b[0m \u001b[39m# read forcing data\u001b[39;00m\n\u001b[1;32m     34\u001b[0m forcing \u001b[39m=\u001b[39m preprocess_forcing(pgen)\n",
      "File \u001b[0;32m~/SpaFHy_v2.0/spafhy.py:85\u001b[0m, in \u001b[0;36mSpaFHy.__init__\u001b[0;34m(self, pgen, pcpy, pbu, pds, ptopmodel, flatten)\u001b[0m\n\u001b[1;32m     82\u001b[0m \u001b[39mif\u001b[39;00m \u001b[39mself\u001b[39m\u001b[39m.\u001b[39msimtype \u001b[39m==\u001b[39m \u001b[39m'\u001b[39m\u001b[39m2D\u001b[39m\u001b[39m'\u001b[39m:\n\u001b[1;32m     83\u001b[0m     flatten \u001b[39m=\u001b[39m \u001b[39mFalse\u001b[39;00m\n\u001b[0;32m---> 85\u001b[0m cmask \u001b[39m=\u001b[39m pcpy[\u001b[39m'\u001b[39m\u001b[39mcmask\u001b[39m\u001b[39m'\u001b[39m]\n\u001b[1;32m     87\u001b[0m \u001b[39m\u001b[39m\u001b[39m\"\"\"\u001b[39;00m\n\u001b[1;32m     88\u001b[0m \u001b[39mflatten=True omits cells outside catchment\u001b[39;00m\n\u001b[1;32m     89\u001b[0m \u001b[39m\u001b[39;00m\n\u001b[0;32m   (...)\u001b[0m\n\u001b[1;32m     99\u001b[0m \u001b[39m    self.ix = ix  # indices to locate back to 2d grid\u001b[39;00m\n\u001b[1;32m    100\u001b[0m \u001b[39m\"\"\"\u001b[39;00m\n\u001b[1;32m    102\u001b[0m \u001b[39m\u001b[39m\u001b[39m\"\"\"--- initialize BucketGrid ---\"\"\"\u001b[39;00m\n",
      "\u001b[0;31mKeyError\u001b[0m: 'cmask'"
     ]
    }
   ],
   "source": [
    "from model_driver import driver\n",
    "from iotools import read_results\n",
    "import matplotlib.pyplot as plt\n",
    "import numpy as np\n",
    "import xarray as xr\n",
    "import os\n",
    "\n",
    "#os.chdir(r'/projappl/project_2000908/nousu/SpaFHy_v2.0')\n",
    "os.chdir(r'/Users/jpnousu/SpaFHy_v2.0')\n",
    "\n",
    "# example of calling driver, reading results\n",
    "outputfile = driver(create_ncf=True, create_spinup=False, folder='testcase_input')\n",
    "results = xr.open_dataset(outputfile)"
   ]
  },
  {
   "cell_type": "code",
   "execution_count": null,
   "id": "f81f1adf-e976-424d-86e6-b8199643bc12",
   "metadata": {},
   "outputs": [],
   "source": [
    "date = '1981-08-01'\n",
    "plt.figure(figsize=(16,6))\n",
    "ax=plt.subplot(1,2,1)\n",
    "#results['bucket_psi_root'].sel(time=date).plot(cmap='coolwarm_r')\n",
    "results['bucket_psi_root'].mean(dim=['time']).plot(vmin=-3, cmap='coolwarm_r')\n",
    "plt.subplot(1,2,2, sharex=ax, sharey=ax)\n",
    "#results['bucket_moisture_root'].sel(time=date)[20:-60,70:-100].plot(cmap='coolwarm_r')\n",
    "results['bucket_moisture_root'].mean(dim=['time']).plot(cmap='coolwarm_r')\n",
    "#results['bucket_moisture_root'].sel(time=date).plot(cmap='coolwarm_r')\n",
    "#plt.subplot(1,2,3, sharex=ax, sharey=ax)\n",
    "#plt.subplot(2,2,4, sharex=ax, sharey=ax)\n",
    "#results['bucket_moisture_top'].sel(time=date)[20:-60,70:-100].plot(cmap='coolwarm_r')"
   ]
  },
  {
   "cell_type": "code",
   "execution_count": null,
   "id": "f4361d7a-f793-4da6-9552-44507d685dff",
   "metadata": {},
   "outputs": [],
   "source": [
    "import xarray as xr\n",
    "file = r'/scratch/project_2000908/nousu/SpaFHy_RESULTS/testcase_input_202403121454.nc'\n",
    "results = xr.open_dataset(file)"
   ]
  },
  {
   "cell_type": "code",
   "execution_count": null,
   "id": "da9e80b0-1693-4e86-b943-c49608907243",
   "metadata": {},
   "outputs": [],
   "source": [
    "firedata = results[['forcing_wind_speed', 'forcing_air_temperature', 'forcing_relative_humidity', \n",
    "                    'bucket_psi_root']].copy()\n",
    "results.close()"
   ]
  },
  {
   "cell_type": "code",
   "execution_count": null,
   "id": "4f9d5394-3838-43c3-8f10-8c4278b844b7",
   "metadata": {},
   "outputs": [],
   "source": [
    "# subset by month\n",
    "firedatass = firedata.sel(time=firedata.time.dt.month.isin([5, 6, 7, 8, 9])).copy()\n",
    "# subset by snow\n",
    "#firedatass = firedata.sel(time=(results['canopy_snow_water_equivalent'].max(dim=['lat','lon']) == 0)).copy()"
   ]
  },
  {
   "cell_type": "code",
   "execution_count": null,
   "id": "ce008d25-9b0e-48c9-b6d6-4243a764984f",
   "metadata": {},
   "outputs": [],
   "source": [
    "firedatass['forcing_wind_speed'][:].plot()"
   ]
  },
  {
   "cell_type": "code",
   "execution_count": null,
   "id": "2ad6c9c9-1b03-4bc7-b7f3-e98b970f1ba3",
   "metadata": {},
   "outputs": [],
   "source": [
    "fp = r'/scratch/project_2000908/nousu/SpaFHy_RESULTS/spafhy_for_fire_3_24.nc'\n",
    "firedatass.to_netcdf(fp, 'w')\n",
    "firedatass.close()"
   ]
  }
 ],
 "metadata": {
  "kernelspec": {
   "display_name": "Python 3 (ipykernel)",
   "language": "python",
   "name": "python3"
  },
  "language_info": {
   "codemirror_mode": {
    "name": "ipython",
    "version": 3
   },
   "file_extension": ".py",
   "mimetype": "text/x-python",
   "name": "python",
   "nbconvert_exporter": "python",
   "pygments_lexer": "ipython3",
   "version": "3.11.5"
  }
 },
 "nbformat": 4,
 "nbformat_minor": 5
}
